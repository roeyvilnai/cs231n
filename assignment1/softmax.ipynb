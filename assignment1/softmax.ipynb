{
 "cells": [
  {
   "cell_type": "markdown",
   "metadata": {},
   "source": [
    "# Softmax exercise\n",
    "\n",
    "*Complete and hand in this completed worksheet (including its outputs and any supporting code outside of the worksheet) with your assignment submission. For more details see the [assignments page](http://vision.stanford.edu/teaching/cs231n/assignments.html) on the course website.*\n",
    "\n",
    "This exercise is analogous to the SVM exercise. You will:\n",
    "\n",
    "- implement a fully-vectorized **loss function** for the Softmax classifier\n",
    "- implement the fully-vectorized expression for its **analytic gradient**\n",
    "- **check your implementation** with numerical gradient\n",
    "- use a validation set to **tune the learning rate and regularization** strength\n",
    "- **optimize** the loss function with **SGD**\n",
    "- **visualize** the final learned weights\n"
   ]
  },
  {
   "cell_type": "code",
   "execution_count": 1,
   "metadata": {
    "collapsed": false
   },
   "outputs": [],
   "source": [
    "import random\n",
    "import numpy as np\n",
    "from cs231n.data_utils import load_CIFAR10\n",
    "import matplotlib.pyplot as plt\n",
    "%matplotlib inline\n",
    "plt.rcParams['figure.figsize'] = (10.0, 8.0) # set default size of plots\n",
    "plt.rcParams['image.interpolation'] = 'nearest'\n",
    "plt.rcParams['image.cmap'] = 'gray'\n",
    "\n",
    "# for auto-reloading extenrnal modules\n",
    "# see http://stackoverflow.com/questions/1907993/autoreload-of-modules-in-ipython\n",
    "%load_ext autoreload\n",
    "%autoreload 2"
   ]
  },
  {
   "cell_type": "code",
   "execution_count": 2,
   "metadata": {
    "collapsed": false
   },
   "outputs": [
    {
     "name": "stdout",
     "output_type": "stream",
     "text": [
      "Train data shape:  (49000L, 3073L)\n",
      "Train labels shape:  (49000L,)\n",
      "Validation data shape:  (1000L, 3073L)\n",
      "Validation labels shape:  (1000L,)\n",
      "Test data shape:  (1000L, 3073L)\n",
      "Test labels shape:  (1000L,)\n",
      "dev data shape:  (500L, 3073L)\n",
      "dev labels shape:  (500L,)\n"
     ]
    }
   ],
   "source": [
    "def get_CIFAR10_data(num_training=49000, num_validation=1000, num_test=1000, num_dev=500):\n",
    "  \"\"\"\n",
    "  Load the CIFAR-10 dataset from disk and perform preprocessing to prepare\n",
    "  it for the linear classifier. These are the same steps as we used for the\n",
    "  SVM, but condensed to a single function.  \n",
    "  \"\"\"\n",
    "  # Load the raw CIFAR-10 data\n",
    "  cifar10_dir = 'cs231n/datasets/cifar-10-batches-py'\n",
    "  X_train, y_train, X_test, y_test = load_CIFAR10(cifar10_dir)\n",
    "  \n",
    "  # subsample the data\n",
    "  mask = range(num_training, num_training + num_validation)\n",
    "  X_val = X_train[mask]\n",
    "  y_val = y_train[mask]\n",
    "  mask = range(num_training)\n",
    "  X_train = X_train[mask]\n",
    "  y_train = y_train[mask]\n",
    "  mask = range(num_test)\n",
    "  X_test = X_test[mask]\n",
    "  y_test = y_test[mask]\n",
    "  mask = np.random.choice(num_training, num_dev, replace=False)\n",
    "  X_dev = X_train[mask]\n",
    "  y_dev = y_train[mask]\n",
    "  \n",
    "  # Preprocessing: reshape the image data into rows\n",
    "  X_train = np.reshape(X_train, (X_train.shape[0], -1))\n",
    "  X_val = np.reshape(X_val, (X_val.shape[0], -1))\n",
    "  X_test = np.reshape(X_test, (X_test.shape[0], -1))\n",
    "  X_dev = np.reshape(X_dev, (X_dev.shape[0], -1))\n",
    "  \n",
    "  # Normalize the data: subtract the mean image\n",
    "  mean_image = np.mean(X_train, axis = 0)\n",
    "  X_train -= mean_image\n",
    "  X_val -= mean_image\n",
    "  X_test -= mean_image\n",
    "  X_dev -= mean_image\n",
    "  \n",
    "  # add bias dimension and transform into columns\n",
    "  X_train = np.hstack([X_train, np.ones((X_train.shape[0], 1))])\n",
    "  X_val = np.hstack([X_val, np.ones((X_val.shape[0], 1))])\n",
    "  X_test = np.hstack([X_test, np.ones((X_test.shape[0], 1))])\n",
    "  X_dev = np.hstack([X_dev, np.ones((X_dev.shape[0], 1))])\n",
    "  \n",
    "  return X_train, y_train, X_val, y_val, X_test, y_test, X_dev, y_dev\n",
    "\n",
    "\n",
    "# Invoke the above function to get our data.\n",
    "X_train, y_train, X_val, y_val, X_test, y_test, X_dev, y_dev = get_CIFAR10_data()\n",
    "print 'Train data shape: ', X_train.shape\n",
    "print 'Train labels shape: ', y_train.shape\n",
    "print 'Validation data shape: ', X_val.shape\n",
    "print 'Validation labels shape: ', y_val.shape\n",
    "print 'Test data shape: ', X_test.shape\n",
    "print 'Test labels shape: ', y_test.shape\n",
    "print 'dev data shape: ', X_dev.shape\n",
    "print 'dev labels shape: ', y_dev.shape"
   ]
  },
  {
   "cell_type": "markdown",
   "metadata": {},
   "source": [
    "## Softmax Classifier\n",
    "\n",
    "Your code for this section will all be written inside **cs231n/classifiers/softmax.py**. \n"
   ]
  },
  {
   "cell_type": "code",
   "execution_count": 7,
   "metadata": {
    "collapsed": false
   },
   "outputs": [
    {
     "name": "stdout",
     "output_type": "stream",
     "text": [
      "loss: 2.290507\n",
      "sanity check: 2.302585\n"
     ]
    }
   ],
   "source": [
    "# First implement the naive softmax loss function with nested loops.\n",
    "# Open the file cs231n/classifiers/softmax.py and implement the\n",
    "# softmax_loss_naive function.\n",
    "\n",
    "from cs231n.classifiers.softmax import softmax_loss_naive\n",
    "import time\n",
    "\n",
    "# Generate a random softmax weight matrix and use it to compute the loss.\n",
    "W = np.random.randn(3073, 10) * 0.0001\n",
    "loss, grad = softmax_loss_naive(W, X_dev, y_dev, 0.0)\n",
    "\n",
    "# As a rough sanity check, our loss should be something close to -log(0.1).\n",
    "print 'loss: %f' % loss\n",
    "print 'sanity check: %f' % (-np.log(0.1))"
   ]
  },
  {
   "cell_type": "markdown",
   "metadata": {},
   "source": [
    "## Inline Question 1:\n",
    "Why do we expect our loss to be close to -log(0.1)? Explain briefly.**\n",
    "\n",
    "**Your answer:** *Fill this in*\n"
   ]
  },
  {
   "cell_type": "code",
   "execution_count": 14,
   "metadata": {
    "collapsed": false
   },
   "outputs": [
    {
     "name": "stdout",
     "output_type": "stream",
     "text": [
      "numerical: 1.748155 analytic: 1.748155, relative error: 2.779403e-08\n",
      "numerical: 1.223143 analytic: 1.223143, relative error: 8.316319e-09\n",
      "numerical: -1.098938 analytic: -1.098938, relative error: 1.034933e-08\n",
      "numerical: -4.960325 analytic: -4.960325, relative error: 5.054379e-09\n",
      "numerical: -1.117670 analytic: -1.117670, relative error: 2.169801e-08\n",
      "numerical: 0.592641 analytic: 0.592641, relative error: 7.100991e-08\n",
      "numerical: 0.561106 analytic: 0.561106, relative error: 5.588138e-08\n",
      "numerical: 2.634906 analytic: 2.634906, relative error: 2.408682e-09\n",
      "numerical: 2.402883 analytic: 2.402883, relative error: 1.047913e-08\n",
      "numerical: -0.829544 analytic: -0.829544, relative error: 5.064168e-08\n",
      "numerical: -0.589299 analytic: -0.589299, relative error: 8.152888e-08\n",
      "numerical: 0.105648 analytic: 0.105648, relative error: 2.194859e-07\n",
      "numerical: 0.019707 analytic: 0.019706, relative error: 9.698311e-07\n",
      "numerical: -3.070035 analytic: -3.070035, relative error: 6.799183e-09\n",
      "numerical: -0.842632 analytic: -0.842632, relative error: 3.073697e-08\n",
      "numerical: -0.693277 analytic: -0.693277, relative error: 7.312737e-08\n",
      "numerical: 0.026995 analytic: 0.026995, relative error: 1.441918e-07\n",
      "numerical: 1.256559 analytic: 1.256559, relative error: 5.246269e-08\n",
      "numerical: -2.887095 analytic: -2.887095, relative error: 7.952235e-09\n",
      "numerical: -0.350219 analytic: -0.350219, relative error: 1.858610e-07\n"
     ]
    }
   ],
   "source": [
    "# Complete the implementation of softmax_loss_naive and implement a (naive)\n",
    "# version of the gradient that uses nested loops.\n",
    "loss, grad = softmax_loss_naive(W, X_dev, y_dev, 0.0)\n",
    "\n",
    "# As we did for the SVM, use numeric gradient checking as a debugging tool.\n",
    "# The numeric gradient should be close to the analytic gradient.\n",
    "from cs231n.gradient_check import grad_check_sparse\n",
    "f = lambda w: softmax_loss_naive(w, X_dev, y_dev, 0.0)[0]\n",
    "grad_numerical = grad_check_sparse(f, W, grad, 10)\n",
    "\n",
    "# similar to SVM case, do another gradient check with regularization\n",
    "loss, grad = softmax_loss_naive(W, X_dev, y_dev, 1e2)\n",
    "f = lambda w: softmax_loss_naive(w, X_dev, y_dev, 1e2)[0]\n",
    "grad_numerical = grad_check_sparse(f, W, grad, 10)"
   ]
  },
  {
   "cell_type": "code",
   "execution_count": 19,
   "metadata": {
    "collapsed": false
   },
   "outputs": [
    {
     "name": "stdout",
     "output_type": "stream",
     "text": [
      "naive loss: 2.290507e+00 computed in 0.200000s\n",
      "(500L, 10L)\n",
      "vectorized loss: 2.290507e+00 computed in 0.016000s\n",
      "Loss difference: 0.000000\n",
      "Gradient difference: 0.000000\n"
     ]
    }
   ],
   "source": [
    "# Now that we have a naive implementation of the softmax loss function and its gradient,\n",
    "# implement a vectorized version in softmax_loss_vectorized.\n",
    "# The two versions should compute the same results, but the vectorized version should be\n",
    "# much faster.\n",
    "tic = time.time()\n",
    "loss_naive, grad_naive = softmax_loss_naive(W, X_dev, y_dev, 0.00001)\n",
    "toc = time.time()\n",
    "print 'naive loss: %e computed in %fs' % (loss_naive, toc - tic)\n",
    "\n",
    "from cs231n.classifiers.softmax import softmax_loss_vectorized\n",
    "tic = time.time()\n",
    "loss_vectorized, grad_vectorized = softmax_loss_vectorized(W, X_dev, y_dev, 0.00001)\n",
    "toc = time.time()\n",
    "print 'vectorized loss: %e computed in %fs' % (loss_vectorized, toc - tic)\n",
    "\n",
    "# As we did for the SVM, we use the Frobenius norm to compare the two versions\n",
    "# of the gradient.\n",
    "grad_difference = np.linalg.norm(grad_naive - grad_vectorized, ord='fro')\n",
    "print 'Loss difference: %f' % np.abs(loss_naive - loss_vectorized)\n",
    "print 'Gradient difference: %f' % grad_difference"
   ]
  },
  {
   "cell_type": "code",
   "execution_count": 22,
   "metadata": {
    "collapsed": false
   },
   "outputs": [
    {
     "name": "stdout",
     "output_type": "stream",
     "text": [
      "lr 1.000000e-07 reg 1.000000e+04 train accuracy: 0.333082 val accuracy: 0.326000\n",
      "lr 1.000000e-07 reg 2.000000e+04 train accuracy: 0.352653 val accuracy: 0.361000\n",
      "lr 1.000000e-07 reg 3.000000e+04 train accuracy: 0.345837 val accuracy: 0.360000\n",
      "lr 1.000000e-07 reg 4.000000e+04 train accuracy: 0.337061 val accuracy: 0.347000\n",
      "lr 1.000000e-07 reg 5.000000e+04 train accuracy: 0.329265 val accuracy: 0.341000\n",
      "lr 1.000000e-07 reg 6.000000e+04 train accuracy: 0.326694 val accuracy: 0.339000\n",
      "lr 1.000000e-07 reg 7.000000e+04 train accuracy: 0.317878 val accuracy: 0.339000\n",
      "lr 1.000000e-07 reg 8.000000e+04 train accuracy: 0.312429 val accuracy: 0.323000\n",
      "lr 1.000000e-07 reg 1.000000e+05 train accuracy: 0.307816 val accuracy: 0.329000\n",
      "lr 2.000000e-07 reg 1.000000e+04 train accuracy: 0.373551 val accuracy: 0.373000\n",
      "lr 2.000000e-07 reg 2.000000e+04 train accuracy: 0.354551 val accuracy: 0.372000\n",
      "lr 2.000000e-07 reg 3.000000e+04 train accuracy: 0.338980 val accuracy: 0.358000\n",
      "lr 2.000000e-07 reg 4.000000e+04 train accuracy: 0.340041 val accuracy: 0.349000\n",
      "lr 2.000000e-07 reg 5.000000e+04 train accuracy: 0.331980 val accuracy: 0.334000\n",
      "lr 2.000000e-07 reg 6.000000e+04 train accuracy: 0.326633 val accuracy: 0.346000\n",
      "lr 2.000000e-07 reg 7.000000e+04 train accuracy: 0.312612 val accuracy: 0.332000\n",
      "lr 2.000000e-07 reg 8.000000e+04 train accuracy: 0.316571 val accuracy: 0.339000\n",
      "lr 2.000000e-07 reg 1.000000e+05 train accuracy: 0.305143 val accuracy: 0.314000\n",
      "lr 3.000000e-07 reg 1.000000e+04 train accuracy: 0.377061 val accuracy: 0.391000\n",
      "lr 3.000000e-07 reg 2.000000e+04 train accuracy: 0.356143 val accuracy: 0.366000\n",
      "lr 3.000000e-07 reg 3.000000e+04 train accuracy: 0.341796 val accuracy: 0.358000\n",
      "lr 3.000000e-07 reg 4.000000e+04 train accuracy: 0.332714 val accuracy: 0.353000\n",
      "lr 3.000000e-07 reg 5.000000e+04 train accuracy: 0.330531 val accuracy: 0.342000\n",
      "lr 3.000000e-07 reg 6.000000e+04 train accuracy: 0.328653 val accuracy: 0.333000\n",
      "lr 3.000000e-07 reg 7.000000e+04 train accuracy: 0.316878 val accuracy: 0.328000\n",
      "lr 3.000000e-07 reg 8.000000e+04 train accuracy: 0.311816 val accuracy: 0.326000\n",
      "lr 3.000000e-07 reg 1.000000e+05 train accuracy: 0.310347 val accuracy: 0.314000\n",
      "lr 5.000000e-05 reg 1.000000e+04 train accuracy: 0.139163 val accuracy: 0.152000\n",
      "lr 5.000000e-05 reg 2.000000e+04 train accuracy: 0.103429 val accuracy: 0.090000\n",
      "lr 5.000000e-05 reg 3.000000e+04 train accuracy: 0.073163 val accuracy: 0.053000"
     ]
    },
    {
     "name": "stderr",
     "output_type": "stream",
     "text": [
      "cs231n\\classifiers\\softmax.py:79: RuntimeWarning: divide by zero encountered in log\n",
      "  loss = np.sum(-np.log(right_class_scores / scores_sum))\n",
      "cs231n\\classifiers\\softmax.py:76: RuntimeWarning: overflow encountered in exp\n",
      "  scores_exp = np.exp(scores)\n"
     ]
    },
    {
     "name": "stdout",
     "output_type": "stream",
     "text": [
      "\n",
      "lr 5.000000e-05 reg 4.000000e+04 train accuracy: 0.100265 val accuracy: 0.087000"
     ]
    },
    {
     "name": "stderr",
     "output_type": "stream",
     "text": [
      "cs231n\\classifiers\\softmax.py:81: RuntimeWarning: invalid value encountered in divide\n",
      "  scores_prob = scores_exp / np.sum(scores_exp, axis = 1, keepdims = True)\n",
      "cs231n\\classifiers\\softmax.py:79: RuntimeWarning: invalid value encountered in divide\n",
      "  loss = np.sum(-np.log(right_class_scores / scores_sum))\n"
     ]
    },
    {
     "name": "stdout",
     "output_type": "stream",
     "text": [
      "\n",
      "lr 5.000000e-05 reg 5.000000e+04 train accuracy: 0.100265 val accuracy: 0.087000\n",
      "lr 5.000000e-05 reg 6.000000e+04 train accuracy: 0.100265 val accuracy: 0.087000\n",
      "lr 5.000000e-05 reg 7.000000e+04 train accuracy: 0.100265 val accuracy: 0.087000\n",
      "lr 5.000000e-05 reg 8.000000e+04 train accuracy: 0.100265 val accuracy: 0.087000\n",
      "lr 5.000000e-05 reg 1.000000e+05 train accuracy: 0.100265 val accuracy: 0.087000\n",
      "lr 8.000000e-07 reg 1.000000e+04 train accuracy: 0.368408 val accuracy: 0.378000\n",
      "lr 8.000000e-07 reg 2.000000e+04 train accuracy: 0.347510 val accuracy: 0.366000\n",
      "lr 8.000000e-07 reg 3.000000e+04 train accuracy: 0.337490 val accuracy: 0.362000\n",
      "lr 8.000000e-07 reg 4.000000e+04 train accuracy: 0.338367 val accuracy: 0.355000\n",
      "lr 8.000000e-07 reg 5.000000e+04 train accuracy: 0.323408 val accuracy: 0.344000\n",
      "lr 8.000000e-07 reg 6.000000e+04 train accuracy: 0.329061 val accuracy: 0.340000\n",
      "lr 8.000000e-07 reg 7.000000e+04 train accuracy: 0.307224 val accuracy: 0.325000\n",
      "lr 8.000000e-07 reg 8.000000e+04 train accuracy: 0.305020 val accuracy: 0.311000\n",
      "lr 8.000000e-07 reg 1.000000e+05 train accuracy: 0.292408 val accuracy: 0.310000\n",
      "best validation accuracy achieved during cross-validation: 0.391000\n"
     ]
    }
   ],
   "source": [
    "# Use the validation set to tune hyperparameters (regularization strength and\n",
    "# learning rate). You should experiment with different ranges for the learning\n",
    "# rates and regularization strengths; if you are careful you should be able to\n",
    "# get a classification accuracy of over 0.35 on the validation set.\n",
    "from cs231n.classifiers import Softmax\n",
    "results = {}\n",
    "best_val = -1\n",
    "best_softmax = None\n",
    "learning_rates = [1e-7, 2e-7, 3e-7, 5e-5, 8e-7]\n",
    "regularization_strengths = [1e4, 2e4, 3e4, 4e4, 5e4, 6e4, 7e4, 8e4, 1e5]\n",
    "\n",
    "################################################################################\n",
    "# TODO:                                                                        #\n",
    "# Use the validation set to set the learning rate and regularization strength. #\n",
    "# This should be identical to the validation that you did for the SVM; save    #\n",
    "# the best trained softmax classifer in best_softmax.                          #\n",
    "################################################################################\n",
    "for lr in learning_rates:\n",
    "    for reg in regularization_strengths:\n",
    "        softmax = Softmax()\n",
    "        softmax.train(X_train, y_train, learning_rate=lr, reg=reg,\n",
    "                      num_iters=1500, verbose=False)\n",
    "        y_val_pred = softmax.predict(X_val)\n",
    "        y_train_pred = softmax.predict(X_train)\n",
    "        \n",
    "        accuracy_val = np.mean(y_val == y_val_pred)\n",
    "        accuracy_train = np.mean(y_train == y_train_pred)\n",
    "        results[(lr, reg)] = (accuracy_train, accuracy_val)\n",
    "        print 'lr %e reg %e train accuracy: %f val accuracy: %f' % (\n",
    "                lr, reg, accuracy_train, accuracy_val)\n",
    "        \n",
    "        if best_val < accuracy_val:\n",
    "            best_val = accuracy_val\n",
    "            best_softmax = softmax\n",
    "################################################################################\n",
    "#                              END OF YOUR CODE                                #\n",
    "################################################################################\n",
    "    \n",
    "print 'best validation accuracy achieved during cross-validation: %f' % best_val"
   ]
  },
  {
   "cell_type": "code",
   "execution_count": 23,
   "metadata": {
    "collapsed": false
   },
   "outputs": [
    {
     "name": "stdout",
     "output_type": "stream",
     "text": [
      "softmax on raw pixels final test set accuracy: 0.374000\n"
     ]
    }
   ],
   "source": [
    "# evaluate on test set\n",
    "# Evaluate the best softmax on test set\n",
    "y_test_pred = best_softmax.predict(X_test)\n",
    "test_accuracy = np.mean(y_test == y_test_pred)\n",
    "print 'softmax on raw pixels final test set accuracy: %f' % (test_accuracy, )"
   ]
  },
  {
   "cell_type": "code",
   "execution_count": 24,
   "metadata": {
    "collapsed": false
   },
   "outputs": [
    {
     "data": {
      "image/png": "[encoded data removed]",
      "text/plain": [
       "<matplotlib.figure.Figure at 0x7be4e10>"
      ]
     },
     "metadata": {},
     "output_type": "display_data"
    }
   ],
   "source": [
    "# Visualize the learned weights for each class\n",
    "w = best_softmax.W[:-1,:] # strip out the bias\n",
    "w = w.reshape(32, 32, 3, 10)\n",
    "\n",
    "w_min, w_max = np.min(w), np.max(w)\n",
    "\n",
    "classes = ['plane', 'car', 'bird', 'cat', 'deer', 'dog', 'frog', 'horse', 'ship', 'truck']\n",
    "for i in xrange(10):\n",
    "  plt.subplot(2, 5, i + 1)\n",
    "  \n",
    "  # Rescale the weights to be between 0 and 255\n",
    "  wimg = 255.0 * (w[:, :, :, i].squeeze() - w_min) / (w_max - w_min)\n",
    "  plt.imshow(wimg.astype('uint8'))\n",
    "  plt.axis('off')\n",
    "  plt.title(classes[i])"
   ]
  },
  {
   "cell_type": "code",
   "execution_count": null,
   "metadata": {
    "collapsed": true
   },
   "outputs": [],
   "source": []
  }
 ],
 "metadata": {
  "kernelspec": {
   "display_name": "Python 2",
   "language": "python",
   "name": "python2"
  },
  "language_info": {
   "codemirror_mode": {
    "name": "ipython",
    "version": 2
   },
   "file_extension": ".py",
   "mimetype": "text/x-python",
   "name": "python",
   "nbconvert_exporter": "python",
   "pygments_lexer": "ipython2",
   "version": "2.7.12"
  }
 },
 "nbformat": 4,
 "nbformat_minor": 0
}
